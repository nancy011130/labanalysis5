{
  "nbformat": 4,
  "nbformat_minor": 0,
  "metadata": {
    "colab": {
      "name": "LabAnalysis5.ipynb",
      "provenance": [],
      "collapsed_sections": [],
      "authorship_tag": "ABX9TyNEgFJyGgLWsC8BqDrQLmdZ",
      "include_colab_link": true
    },
    "kernelspec": {
      "name": "python3",
      "display_name": "Python 3"
    },
    "language_info": {
      "name": "python"
    }
  },
  "cells": [
    {
      "cell_type": "markdown",
      "metadata": {
        "id": "view-in-github",
        "colab_type": "text"
      },
      "source": [
        "<a href=\"https://colab.research.google.com/github/NYUExperimentalPhysics1-2021/LabAnalysis5/blob/main/LabAnalysis5.ipynb\" target=\"_parent\"><img src=\"https://colab.research.google.com/assets/colab-badge.svg\" alt=\"Open In Colab\"/></a>"
      ]
    },
    {
      "cell_type": "markdown",
      "metadata": {
        "id": "QpswBbfWcR0E"
      },
      "source": [
        "#Initial library includes and installations\n",
        "run once - does not require you to edit anything"
      ]
    },
    {
      "cell_type": "code",
      "metadata": {
        "id": "uHTWtceOIVdV",
        "colab": {
          "base_uri": "https://localhost:8080/"
        },
        "outputId": "cc5af0e4-1ce6-4a7c-8703-9a16455097bb"
      },
      "source": [
        "!pip install munch\n",
        "import json\n",
        "import numpy as np\n",
        "import matplotlib.pyplot as plt\n",
        "import os, glob\n",
        "from munch import munchify\n",
        "import scipy.stats\n",
        "from sklearn import linear_model, datasets\n",
        "\n"
      ],
      "execution_count": 1,
      "outputs": [
        {
          "output_type": "stream",
          "name": "stdout",
          "text": [
            "Collecting munch\n",
            "  Downloading munch-2.5.0-py2.py3-none-any.whl (10 kB)\n",
            "Requirement already satisfied: six in /usr/local/lib/python3.7/dist-packages (from munch) (1.15.0)\n",
            "Installing collected packages: munch\n",
            "Successfully installed munch-2.5.0\n"
          ]
        }
      ]
    },
    {
      "cell_type": "markdown",
      "metadata": {
        "id": "EGierwNjcdQa"
      },
      "source": [
        "#Function definitions and constants\n",
        "Run once - does not require you to edit anything\n",
        "\n",
        "These functions are provided for you - see function definitions and comments for more information on their return values and usage\n",
        "\n",
        "  1. `loadDataSet(filename)` - loads an individual .json file and checks it for really large jumps in major axis angle, which would indicate a problem with the fits\n",
        "  1. `loadAllDataSets(startdir)` - loads all json files in a directory\n",
        "  1. `meanOverTime(t,y,deltat)` - breaks data up into chunks about delta t long and calculates the average value of y over each chunk by integrating y and dividing by the total time\n",
        "  1. `integralOverTime(t,y,deltat)` - like `meanOverTime`, but doesn't divide by the total time\n",
        "  1. `sumOverTimeRange (t, y, deltat)` - like `integralOverTime`, but sums all values instead of integrating (no $dt$ term)\n",
        "  1. `rateOfChange (t,y)` - calculates dy/dt (assumes t is monotonically increasing)\n",
        "  1. `rateOfChangeAngular (t,theta)` - calculates dtheta/dt, taking into account wrapping every 2$\\pi$ (assumes t is monotonically increasing and theta is in **radians**)\n",
        "  1. `(m,b,m_e,b_e) = fitLine(x,y)` - least squares fit to $y = (m\\pm m_e)x + b\\pm b_e$ $m_e$ and $b_e$ are the uncertainties (errors) in the estimates of $m$ and $b$\n",
        "  1. `(m,m_e) = fitLineThroughZero(x,y)`: like fitLine, but with b fixed to 0\n",
        "  1. `fitLineRansac(x,y)` - least squares fit to y = m x + b , discarding outliers - note that this function returns extra values besides m, b, m_e nd b_e: inlying and outlying points : uses [RANSAC](https://https://en.wikipedia.org/wiki/Random_sample_consensus) to find outliers\n",
        "  1. `fitLineHuber(x,y)` - least squares fit to y = m x + b , discarding outliers - note that this function returns extra values besides m, b, m_e nd b_e: inlying and outlying points : uses [Huber](https://scikit-learn.org/stable/modules/linear_model.html#huber-regression) to find outliers\n",
        "\n",
        "        "
      ]
    },
    {
      "cell_type": "code",
      "metadata": {
        "id": "t3wquqyKbOpM"
      },
      "source": [
        "gaccel = 9.802\n",
        "\n",
        "nyc_latitude =40.730610\n",
        "deghr = np.rad2deg(3600)\n",
        "omega_foucault = -15*np.sin(np.deg2rad(nyc_latitude))/deghr\n",
        "\n",
        "\n",
        "MAJAXIS = 0\n",
        "MINAXIS = 1\n",
        "THETA = 2\n",
        "DPHI = 3\n",
        "MAGROT = 4\n",
        "MAGROTRATE =5\n",
        "\n",
        "\n",
        "#loads one data set (work from one lab group stored in a .json file)\n",
        "#data can be accessed as either a dictionary or a structure\n",
        "#ie dataset[\"fits\"] and dataset.fits are the same thing\n",
        "#setupNumber: number on the wall\n",
        "#section: 1-4 which section data came from\n",
        "#thetaWall: angle of a line parallel to the wall\n",
        "#z0: calibrated magnet height\n",
        "#filename: name of the json file\n",
        "#fits: list of fits to individual trials\n",
        "#   anglePath: path to angle data file\n",
        "#   magPath: path to magnetometer data file\n",
        "#   offset: (x,y) calculated offset of the magnetometer from 0\n",
        "#   tiltAngle: calculated angle the magnet was tilted away from z-axis\n",
        "#   L: calculated length of the string (from period)\n",
        "#   B0: best estimate of magnetic field strength z0 away directly along magnet axis\n",
        "#   t: time each orbit started: (N,)\n",
        "#   orbit: fit parameters for each orbit (N,6)\n",
        "# >>    orbit[:,MAJAXIS] is the major axis size (in meters) <<<\n",
        "# >>    orbit[:,MINAXIS] is the minor axis size (in meters) <<<\n",
        "# >>    orbit[:,THETA] is the major axis angle <<<\n",
        "#       orbit[:,DPHI] is the phase offset\n",
        "#       orbit[:,MAGROT] is the orientation of the magnet tilt relative to the x-axis\n",
        "#       orbit[:,MAGROTRATE] is the rate the bob was spinning about its axis per period\n",
        "\n",
        "\n",
        "def loadDataSet(filename):\n",
        "  file = open(filename,'r')\n",
        "  results = json.load(file)\n",
        "  file.close\n",
        "  dataset = munchify(results) #can be accessed as a structure or a dict\n",
        "  dataset.filename = filename\n",
        "  valid = []\n",
        "  for f in dataset.fits:\n",
        "    f.offset = np.array(f.offset)\n",
        "    f.orbit = np.array(f.orbit)\n",
        "    f.t = np.array(f.t) \n",
        "    f.pulseEnergy = np.array(f.pulseEnergy)\n",
        "    f.pulsePhase = np.array(f.pulsePhase)\n",
        "    dp = np.diff(np.unwrap(f.orbit[:,THETA]))\n",
        "    valid.append((np.abs(dp) < np.pi/4).all()) #extremely large jump from one swing to the next - bad fit\n",
        "  bad = np.array(valid) == False\n",
        "  if (bad.any()):\n",
        "    print('{}: bad fits found in experiments {}'.format(filename, np.where(bad)[0]))\n",
        "    dataset.fits = [dataset.fits[i] for i in np.where(valid)[0]]\n",
        "  return dataset\n",
        "\n",
        "def loadAllDataSets(startdir):\n",
        "  files = sorted(glob.glob(startdir + '/*.json'))\n",
        "  data = []\n",
        "  for f in files:\n",
        "    d = loadDataSet(f)\n",
        "    if len(d.fits) > 0:\n",
        "      data.append(d)\n",
        "  return data\n",
        "#  return [loadDataSet(f) for f in files]\n",
        "\n",
        "#my = meanOverTime (t,y,deltat)\n",
        "#calculates the mean value of y and dy/dt at approximate intervals of deltat\n",
        "#   e.g. if deltat is 10, then my[0] is the average value of y between \n",
        "#   t[0] and t[0] + 10\n",
        "#detalt is adjusted downward to evenly divide the whole range\n",
        "#   e.g. if deltat is 100 and t ranges from 0 to 110 seconds, then delta t will be 55\n",
        "def meanOverTime (t, y, deltat):\n",
        "  numpts = int(np.ceil((t[-1]-t[0])/deltat)) + 1\n",
        "  inds = np.linspace(0,len(t),numpts, endpoint=False, dtype=int)\n",
        "  dt = np.gradient(t)\n",
        "  my = np.diff((np.cumsum(y*dt))[inds])/np.diff(t[inds])\n",
        "  return my\n",
        "\n",
        "def integralOverTime (t, y, deltat):\n",
        "  numpts = int(np.ceil((t[-1]-t[0])/deltat)) + 1\n",
        "  inds = np.linspace(0,len(t),numpts, endpoint=False, dtype=int)\n",
        "  dt = np.gradient(t)\n",
        "  iy = np.diff((np.cumsum(y*dt))[inds])\n",
        "  return iy\n",
        "def sumOverTimeRange (t, y, deltat):\n",
        "  numpts = int(np.ceil((t[-1]-t[0])/deltat)) + 1\n",
        "  inds = np.linspace(0,len(t),numpts, endpoint=False, dtype=int)\n",
        "  dt = np.gradient(t)\n",
        "  sy = np.diff((np.cumsum(y))[inds])\n",
        "  return sy\n",
        "#dy_dt = rateOfChange(t,y)  \n",
        "def rateOfChange (t,y):\n",
        "  return np.gradient(y)/np.gradient(t)\n",
        "\n",
        "#dtheta_dt = rateOfChangeAngular(theta)\n",
        "#unwraps theta so that there aren't any jumps bigger than pi before taking derivative\n",
        "def rateOfChangeAngular(t,theta):\n",
        "  return np.gradient(np.unwrap(theta))/np.gradient(t)\n",
        "\n",
        "#(m,b,m_e,b_e) = fitLine(x,y)\n",
        "#least squares fit to y = m x + b : m_e,b_e are uncertainties in m,b\n",
        "def fitLine(x,y):\n",
        "  p = np.polyfit(x,y,1)\n",
        "  res = y - p[0]*x - p[1]\n",
        "  m_e = np.sqrt(np.var(res)/np.sum((x-np.mean(x))**2))\n",
        "  b_e = np.sqrt(np.mean(x**2))*m_e\n",
        "  return (p[0],p[1],m_e,b_e)\n",
        "\n",
        "def fitLineThroughZero(x,y):\n",
        "  m = np.sum(x*y)/np.sum(x**2)\n",
        "  res = y - m*x\n",
        "  m_e = np.sqrt(np.var(res)/np.sum((x-np.mean(x))**2))\n",
        "  return (m,m_e)\n",
        "\n",
        "def fitLineHuber(x,y,epsilon=2):\n",
        "  huber = linear_model.HuberRegressor(epsilon=epsilon)\n",
        "  huber.fit(x.reshape(-1,1),y)\n",
        "  outlier_mask = huber.outliers_\n",
        "  inlier_mask = np.logical_not(outlier_mask)\n",
        "  (m,b,me,be) = fitLine(x[inlier_mask], y[inlier_mask])\n",
        "  xi = x[inlier_mask]\n",
        "  yi = y[inlier_mask]\n",
        "  xo = x[outlier_mask]\n",
        "  yo = y[outlier_mask]\n",
        "  return (m,b,me,be,xi,yi,xo,yo)\n",
        "\n",
        "#((m,b,me,be,xi,yi,xo,yo) = fitLineRansac(x,y)\n",
        "#least squares fit to y = m x + b , discarding outliers\n",
        "#xi,yi are x,y values used (inliers) \n",
        "#xo.yo are x,y values discarded (outliers)\n",
        "def fitLineRansac(x,y):\n",
        "  #print(np.median(np.abs(y - np.median(y))))\n",
        "  ransac = linear_model.RANSACRegressor()\n",
        "  ransac.fit(x.reshape(-1,1),y.reshape(-1,1))\n",
        "  inlier_mask = ransac.inlier_mask_\n",
        "  res = y[inlier_mask]-ransac.predict(x.reshape(-1,1))[inlier_mask,0]\n",
        "  ransac.residual_threshold = np.median(np.abs(res))\n",
        "  ransac.fit(x.reshape(-1,1),y.reshape(-1,1))\n",
        "\n",
        "  ransac.stop_probability = 1\n",
        "  ransac.max_trials = 10000\n",
        "  ransac.min_samples = 0.1\n",
        "  res = y[inlier_mask]-ransac.predict(x.reshape(-1,1))[inlier_mask,0]\n",
        "  ransac.residual_threshold = 2.5*np.std(res)\n",
        "  ransac.fit(x.reshape(-1,1),y.reshape(-1,1))\n",
        "  inlier_mask = ransac.inlier_mask_\n",
        "  \n",
        "  # res = y[inlier_mask]-ransac.predict(x.reshape(-1,1))[inlier_mask,0]\n",
        "  # ransac.residual_threshold = np.median(np.abs(res))\n",
        "  # ransac.fit(x.reshape(-1,1),y.reshape(-1,1))\n",
        "  # inlier_mask = ransac.inlier_mask_\n",
        "\n",
        "  outlier_mask = np.logical_not(inlier_mask)\n",
        "  (m,b,me,be) = fitLine(x[inlier_mask], y[inlier_mask])\n",
        "  xi = x[inlier_mask]\n",
        "  yi = y[inlier_mask]\n",
        "  xo = x[outlier_mask]\n",
        "  yo = y[outlier_mask]\n",
        "  print(ransac.n_trials_)\n",
        "  return (m,b,me,be,xi,yi,xo,yo)"
      ],
      "execution_count": 33,
      "outputs": []
    },
    {
      "cell_type": "markdown",
      "metadata": {
        "id": "CRZ82mnQeKBL"
      },
      "source": [
        "#Fetch and load the data to be analyzed\n",
        "run once\n",
        "\n",
        "\n",
        "\n",
        "`alldata` contains everyone's data - each element of this list is one dataset\n",
        "\n",
        "\n",
        "## fields in dataset structure\n",
        "- `setupNumber`: number on the wall\n",
        "- `section`: 1-4 which section data came from\n",
        "- `thetaWall`: angle of a line parallel to the wall\n",
        "- `z0`: calibrated magnet height\n",
        "- `filename`: name of the json file\n",
        "- `fits`: list of fits to individual trials\n",
        "   - `anglePath`: path to angle data file\n",
        "   - `magPath`: path to magnetometer data file\n",
        "   - `offset`: (x,y) calculated offset of the magnetometer from 0\n",
        "   - `tiltAngle`: calculated angle the magnet was tilted away from z-axis\n",
        "   - `L`: calculated length of the string (from period)\n",
        "   - `B0`: best estimate of magnetic field strength z0 away directly along magnet axis\n",
        "   - `t`: time each orbit started: (N,)\n",
        "   - `pulseEnergy`: energy added to the bob by action of the drive (generally from 2 pulses per cycle)\n",
        "   - `pulsePhase`: average phase (mod $\\pi$) at which the pulses were delivered - note that it's in radians\n",
        "   - `orbit`: fit parameters for each orbit (N,6)\n",
        "        - `orbit[:,MAJAXIS]` is the **major axis** size (in meters) \n",
        "        - `orbit[:,MINAXIS]` is the **minor axis** size (in meters) \n",
        "        - `orbit[:,THETA]` is the **angle of the major axis** \n",
        "        - `orbit[:,DPHI]` is the phase offset\n",
        "        - `orbit[:,MAGROT]` is the orientation of the magnet tilt relative to the x-axis\n",
        "        - `orbit[:,MAGROTRATE]` is the rate the bob was spinning about its axis per period\n",
        "    "
      ]
    },
    {
      "cell_type": "code",
      "metadata": {
        "id": "fCynEIfRabj6"
      },
      "source": [
        "!rm -rf data/\n",
        "!git clone https://github.com/NYUExperimentalPhysics1-2021/lab5-shared-data-whole-class data\n",
        "alldata = loadAllDataSets('/content/data/')"
      ],
      "execution_count": null,
      "outputs": []
    },
    {
      "cell_type": "markdown",
      "metadata": {
        "id": "6vycMKg1Wmly"
      },
      "source": [
        "##Goal of this analysis\n",
        "The predicted rotation due to driving the pendulum is given by\n",
        "\n",
        "$\\Delta \\theta = -\\frac{ab}{a^2-b^2}\\frac{\\Delta U}{U}f(\\phi) \\approx -\\frac{b}{a}\\frac{\\Delta U}{U}f(\\phi) $, with \n",
        "\n",
        "$f(\\phi) = \\cot(2\\phi)$ (my formula)\n",
        "\n",
        "or\n",
        "\n",
        "$f(\\phi) = \\frac{{\\pi}/{2} - \\phi}{4 \\tan(\\phi)}$ (Schumacher and Tarbet)\n",
        "\n",
        "For a given interval of time, call $\\Delta \\theta_{meas} = \\theta_{final} - (\\theta_{initial} + \\int \\Omega_{pred}(t)dt)$, where $\\Omega_{pred} = \\frac{3}{8}\\omega \\frac{ab}{L^2} - 9.8^\\circ/hr$ is the predicted rotation due to the elliptical orbit and the rotation of the earth.\n",
        "\n",
        "Then both models predict a graph of $\\Delta \\theta_{meas}$ vs. $\\sum_{pulses}(-\\frac{b}{a}\\frac{\\Delta U}{U})$ will show a linear relation with an intercept of 0 and different slopes, depending on the phase. Crucially, my model predicts that the slope will be positive for $\\phi < 45^\\circ$ and negative for $\\phi > 45^\\circ$, which Schumacher and Tarbet predict the slope will always be positive. \n",
        "\n",
        "So our goal is, first, for intervals of time set by `deltat`, \n",
        "\n",
        "1. Calculate $\\Delta \\theta_{meas} = \\theta_{final} - (\\theta_{initial} + \\int \\Omega_{pred}(t)dt) = \\int \\left((\\frac{d \\theta}{d t})_{meas} - \\Omega_{pred}(t)\\right)dt$\n",
        "2. Calculate a \"rotation factor:\" $\\sum_{pulses}(-\\frac{b}{a}\\frac{\\Delta U}{U})$ for the same interval\n",
        "3. Calculate the mean $\\phi$ of the drive for that interval\n",
        "\n",
        "Then use this information and sort each interval by the drive phase. \n",
        "1. For each phase, make a plot of $\\Delta \\theta_{meas}$ vs. $R$, the \"rotation factor\" - does the sign of the slope vs. phase match either model's predictions?\n",
        "1. For each phase calculate the best fit to  $\\Delta \\theta_{meas} = m(\\phi) R$\n",
        "1. Plot $m(\\phi)$ vs. $\\phi$ and compare to model predictions\n"
      ]
    },
    {
      "cell_type": "markdown",
      "metadata": {
        "id": "Q_ZlNHHFhQqg"
      },
      "source": [
        "###Let's break it down\n",
        "\n",
        "\n",
        "First, for intervals of time set by `deltat`, \n",
        "\n",
        "1. Calculate $\\Delta \\theta_{meas} = \\theta_{final} - (\\theta_{initial} + \\int \\Omega_{pred}(t)dt) = \\int \\left((\\frac{d \\theta}{d t})_{meas} - \\Omega_{pred}(t)\\right)dt$\n",
        "2. Calculate a \"rotation factor:\" $\\sum_{pulses}(-\\frac{b}{a}\\frac{\\Delta U}{U})$ for the same interval\n",
        "3. Calculate the mean $\\phi$ of the drive for that interval\n",
        "\n",
        "In the cell below:\n",
        "\n",
        "1. Define `deltat = 100`, the time interval which you can adjust (rerun subsequent code after adjusting)\n",
        "1. Create empty lists, `deltatheta, rotfactor, pulsephase`\n",
        "1. Loop over all data in alldata `for data in alldata:`\n",
        "  1. get the mass of the bob (`m = data.mass`)\n",
        "  1. Loop over all fits in data (`for f in data.fits`)\n",
        "  1. Calculate or extract from the data structure `f`: `L, omega, a, t, b, theta, du, u, phipulse`  -  for example: \n",
        "  ```\n",
        "    L = f.L\n",
        "    omega = np.sqrt(gaccel/f.L)\n",
        "    a = f.orbit[:,MAJAXIS]\n",
        "    du = f.pulseEnergy\n",
        "  ```\n",
        "  1. Calculate the predicted rotation `rp` = $.375 \\omega \\frac{ab}{L^2} + \\Omega_{foucault}$ note that $\\Omega_{foucault}$ is defined in radians/sec already as `omega_foucault`\n",
        "  1. Calculate the actual rate of change `dtheta_dt` using `rateOfChangeAngular`\n",
        "  1. Integrate the difference between measured and predicted rotations (`dtheta_dt - rp`) using `integralOverTime`. Append these integrals to `deltatheta`\n",
        "  1. Calculate the predicted rotation factor per cycle `rf` as $-\\frac{b}{a}\\frac{\\Delta U}{U}$\n",
        "  1. Sum the predicted rotation factors using `sumOverTimeRange` (`integralOverTime` includes a factor of $dt$ and `sumOverTimeRange` does not). Append these sums to `rotfactor`\n",
        "  1. Calculate the mean drive phase for each interval using `meanOverTime`; append these to `pulsephase`"
      ]
    },
    {
      "cell_type": "code",
      "metadata": {
        "id": "fCV3vrKfqZh4"
      },
      "source": [
        "## your code here"
      ],
      "execution_count": null,
      "outputs": []
    },
    {
      "cell_type": "markdown",
      "metadata": {
        "id": "s62_Un10qbTB"
      },
      "source": [
        "###Now let's analyze the intervals. \n",
        "\n",
        "First, if a fit was really wonky, something was wrong in the data collection, you might get a huge value for the predicted rotation factor. Let's take care of that by using numpy's ability to do \"logical slicing\"\n",
        "\n",
        "1. Convert all your lists (`deltatheta`, `rotfactor`, `pulsephase`) to 1D numpy arrays. `deltatheta = np.concatenate(deltatheta)` etc. \n",
        "2. Define a numpy logical array `valid` that's equal to $|$ `rotfactor` $| < \\pi$\n",
        "3. For each array, select only the `valid` parts. `deltatheta = deltatheta[valid]` etc.\n",
        "\n",
        "Next let's define a set of phases to examine. We didn't evenly cover all phases in the class (at least not of this writing), so we shouldn't use `np.arange`. \n",
        "1. So let's use `pset = (20,25,30, 35, 45, 50, 60)`\n",
        "1. create empty lists, `slope` and `slope_eb` to hold the fit results\n",
        "\n",
        "Now iterate over the phases: `for phase in pset:`\n",
        "1. Define a numpy logical array `valid` that's equal to $|$ `np.rad2deg(pulsephase) - phase` $| < 2.5$\n",
        "2. Make a scatter plot of `np.deg2rad(dtheta[valid])` (on the y-axis) vs `np.deg2rad(rotfactor[valid])` on the x-axis\n",
        "3. Fit the line `dtheta[valid] = m * rotfactor[valid]` using `(m,me) = fitLineThroughZero(...)`\n",
        "4. Append the slope (`m`) to `slope` and the slope error bar (`me`) to `slope_eb`\n",
        "5. Plot a black dashed line that goes through 0 with slope `m`\n",
        "6. Plot a magenta dashed line that goes through 0 with slope $1/\\tan(2\\phi)$ (be sure to convert $\\phi$ to radians)\n",
        "7. Plot a blue dahsed line that goes through 0 with slope $\\frac{{\\pi}/{2} - \\phi}{4 \\tan(\\phi)}$ (be sure to convert $\\phi$ to radians)\n",
        "1. Title the graph with \"phase = (the phase)\"\n",
        "1. set the y-axis label to \"$\\Delta \\theta$ (deg, measured)\"\n",
        "1. set the x-axis label to \"rotation factor (deg)\"\n",
        "8. call `plt.show()` to move on to the next graph"
      ]
    },
    {
      "cell_type": "code",
      "metadata": {
        "id": "EJs3xcSWv-ww"
      },
      "source": [
        "## your code here"
      ],
      "execution_count": null,
      "outputs": []
    },
    {
      "cell_type": "markdown",
      "metadata": {
        "id": "r1BNTZuZwBhX"
      },
      "source": [
        "### Time for the final plot\n",
        "\n",
        "Make an error plot of `slope` $\\pm$ `slope_eb` vs. `pset`. Make round markers that aren't connected by lines\n",
        "\n",
        "Overlay plots of $1/\\tan(2\\phi)$  vs. $\\phi$ (`pset`) as a black dashed line and $\\frac{{\\pi}/{2} - \\phi}{4 \\tan(\\phi)}$ vs. $\\phi$ as a red dashed line. Make sure you do your calculations in radians. "
      ]
    },
    {
      "cell_type": "code",
      "metadata": {
        "id": "GB1K53lSxbX2"
      },
      "source": [
        "## your code here"
      ],
      "execution_count": null,
      "outputs": []
    },
    {
      "cell_type": "markdown",
      "metadata": {
        "id": "Dn-p9FDnyOrA"
      },
      "source": [
        "#Questions\n",
        "\n",
        "Explain why we compared $\\int dt\\left((\\frac{d \\theta}{dt}) - (.375 \\omega \\frac{ab}{L^2} + \\Omega_{foucault})\\right)$ to $\\sum-\\frac{b}{a}\\frac{\\Delta U}{U}$\n",
        "\n",
        "Do the data support (or disprove) the following statements (explain)?\n",
        "\n",
        "1. Applying the drive force rotates the orbit by an amount proportional to $-\\frac{b}{a}\\frac{\\Delta U}{U}$\n",
        "2. Applying the drive force rotates the orbit by $-\\frac{b}{a}\\frac{\\Delta U}{U} \\cot(2\\phi)$\n",
        "3.  Applying the drive force rotates the orbit by $-\\frac{b}{a}\\frac{\\Delta U}{U} \\frac{{\\pi}/{2} - \\phi}{4 \\tan(\\phi)}$\n"
      ]
    }
  ]
}